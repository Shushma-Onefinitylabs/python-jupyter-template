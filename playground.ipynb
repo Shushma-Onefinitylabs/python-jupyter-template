{
 "cells": [
  {
   "cell_type": "code",
   "execution_count": null,
   "metadata": {
    "vscode": {
     "languageId": "plaintext"
    }
   },
   "outputs": [],
   "source": [
    "import matplotlib.pyplot as plt\n",
    "\n",
    "# Data for the histogram\n",
    "data = [1, 2, 2, 3, 3, 3, 4, 4, 4, 4, 5]\n",
    "\n",
    "# Creating the histogram\n",
    "plt.hist(data, bins=range(1, 7), color='skyblue', edgecolor='black', align='left')\n",
    "\n",
    "# Customizing the histogram\n",
    "plt.title(\"Frequency Distribution of Data\")\n",
    "plt.xlabel(\"Values\")\n",
    "plt.ylabel(\"Frequency\")\n",
    "\n",
    "# Display the histogram\n",
    "plt.show()\n"
   ]
  }
 ],
 "metadata": {
  "language_info": {
   "name": "python"
  }
 },
 "nbformat": 4,
 "nbformat_minor": 2
}
